{
 "cells": [
  {
   "cell_type": "markdown",
   "id": "498474bf-9913-410c-8d18-2a0d0c7590e4",
   "metadata": {},
   "source": [
    "### Implementing Batch Normalization"
   ]
  },
  {
   "cell_type": "code",
   "execution_count": 25,
   "id": "884e6c59-abc3-4866-87cd-f1f271d0e957",
   "metadata": {},
   "outputs": [],
   "source": [
    "import datetime\n",
    "import matplotlib.pyplot as plt\n",
    "import numpy as np\n",
    "import os\n",
    "\n",
    "import sys\n",
    "import tensorflow as tf\n",
    "\n",
    "from tensorflow.python.ops import nn_ops\n",
    "\n",
    "sys.path.append(\"..\")\n",
    "\n",
    "from datasets.mnist import MNIST_DATASET"
   ]
  },
  {
   "cell_type": "code",
   "execution_count": 26,
   "id": "12f63399",
   "metadata": {},
   "outputs": [],
   "source": [
    "%load_ext tensorboard"
   ]
  },
  {
   "cell_type": "code",
   "execution_count": 27,
   "id": "dd02aa98-14c6-4a86-a7ad-dcb8a8f63035",
   "metadata": {},
   "outputs": [],
   "source": [
    "BATCH_SIZE = 60\n",
    "SHUFFLE_BUFFER_SIZE = 100"
   ]
  },
  {
   "cell_type": "code",
   "execution_count": 28,
   "id": "8ad70712-ff2e-4e49-879c-1a1e900e0e78",
   "metadata": {},
   "outputs": [],
   "source": [
    "dataset_path = '/Users/rohit/Desktop/datasets/mnist'\n",
    "x_train, y_train, x_test, y_test = MNIST_DATASET.load_dataset(dataset_path=dataset_path, reshape=False)"
   ]
  },
  {
   "cell_type": "code",
   "execution_count": 29,
   "id": "997922ff-f3de-4ce0-8afa-430d5dafe64a",
   "metadata": {},
   "outputs": [],
   "source": [
    "train_dataset = tf.data.Dataset.from_tensor_slices((x_train, y_train))\n",
    "train_dataset = train_dataset.shuffle(SHUFFLE_BUFFER_SIZE).batch(BATCH_SIZE)\n",
    "\n",
    "test_dataset = tf.data.Dataset.from_tensor_slices((x_test, y_test)).batch(BATCH_SIZE)"
   ]
  },
  {
   "cell_type": "code",
   "execution_count": 30,
   "id": "598e868c-1062-4fb3-b547-f4781c25bff5",
   "metadata": {},
   "outputs": [
    {
     "name": "stdout",
     "output_type": "stream",
     "text": [
      "Model: \"sequential_4\"\n",
      "_________________________________________________________________\n",
      " Layer (type)                Output Shape              Param #   \n",
      "=================================================================\n",
      " dense_16 (Dense)            (None, 100)               78500     \n",
      "                                                                 \n",
      " dense_17 (Dense)            (None, 100)               10100     \n",
      "                                                                 \n",
      " dense_18 (Dense)            (None, 100)               10100     \n",
      "                                                                 \n",
      " dense_19 (Dense)            (None, 10)                1010      \n",
      "                                                                 \n",
      "=================================================================\n",
      "Total params: 99,710\n",
      "Trainable params: 99,710\n",
      "Non-trainable params: 0\n",
      "_________________________________________________________________\n",
      "None\n"
     ]
    }
   ],
   "source": [
    "model_one = tf.keras.Sequential([\n",
    "    tf.keras.layers.Dense(100, activation='sigmoid', input_shape=(784, )),\n",
    "    tf.keras.layers.Dense(100, activation='sigmoid'),\n",
    "    tf.keras.layers.Dense(100, activation='sigmoid'),\n",
    "    tf.keras.layers.Dense(10, )\n",
    "])\n",
    "\n",
    "model_one.build()\n",
    "\n",
    "print(model_one.summary())"
   ]
  },
  {
   "cell_type": "code",
   "execution_count": 31,
   "id": "a4f65218-46dd-46d4-be2b-cdfabadf28da",
   "metadata": {},
   "outputs": [],
   "source": [
    "model_one.compile(optimizer=tf.keras.optimizers.RMSprop(),\n",
    "        loss=tf.keras.losses.SparseCategoricalCrossentropy(from_logits=True),\n",
    "        metrics=['sparse_categorical_accuracy'])"
   ]
  },
  {
   "cell_type": "code",
   "execution_count": 32,
   "id": "b1385a69-ccc9-4e99-ab3e-e9906d3f8c29",
   "metadata": {},
   "outputs": [
    {
     "name": "stdout",
     "output_type": "stream",
     "text": [
      "Epoch 1/50\n"
     ]
    },
    {
     "name": "stderr",
     "output_type": "stream",
     "text": [
      "2023-01-22 23:05:03.883763: I tensorflow/core/grappler/optimizers/custom_graph_optimizer_registry.cc:114] Plugin optimizer for device_type GPU is enabled.\n"
     ]
    },
    {
     "name": "stdout",
     "output_type": "stream",
     "text": [
      " 997/1000 [============================>.] - ETA: 0s - loss: 0.6584 - sparse_categorical_accuracy: 0.8200"
     ]
    },
    {
     "name": "stderr",
     "output_type": "stream",
     "text": [
      "2023-01-22 23:05:13.704480: I tensorflow/core/grappler/optimizers/custom_graph_optimizer_registry.cc:114] Plugin optimizer for device_type GPU is enabled.\n"
     ]
    },
    {
     "name": "stdout",
     "output_type": "stream",
     "text": [
      "1000/1000 [==============================] - 11s 10ms/step - loss: 0.6570 - sparse_categorical_accuracy: 0.8205 - val_loss: 0.3291 - val_sparse_categorical_accuracy: 0.9006\n",
      "Epoch 2/50\n",
      "1000/1000 [==============================] - 10s 10ms/step - loss: 0.2973 - sparse_categorical_accuracy: 0.9118 - val_loss: 0.2696 - val_sparse_categorical_accuracy: 0.9173\n",
      "Epoch 3/50\n",
      "1000/1000 [==============================] - 10s 10ms/step - loss: 0.2509 - sparse_categorical_accuracy: 0.9240 - val_loss: 0.2415 - val_sparse_categorical_accuracy: 0.9283\n",
      "Epoch 4/50\n",
      "1000/1000 [==============================] - 10s 10ms/step - loss: 0.2244 - sparse_categorical_accuracy: 0.9327 - val_loss: 0.2260 - val_sparse_categorical_accuracy: 0.9323\n",
      "Epoch 5/50\n",
      "1000/1000 [==============================] - 10s 10ms/step - loss: 0.2063 - sparse_categorical_accuracy: 0.9377 - val_loss: 0.2107 - val_sparse_categorical_accuracy: 0.9361\n",
      "Epoch 6/50\n",
      "1000/1000 [==============================] - 10s 10ms/step - loss: 0.1937 - sparse_categorical_accuracy: 0.9404 - val_loss: 0.2016 - val_sparse_categorical_accuracy: 0.9408\n",
      "Epoch 7/50\n",
      "1000/1000 [==============================] - 10s 10ms/step - loss: 0.1862 - sparse_categorical_accuracy: 0.9434 - val_loss: 0.1985 - val_sparse_categorical_accuracy: 0.9438\n",
      "Epoch 8/50\n",
      "1000/1000 [==============================] - 10s 10ms/step - loss: 0.1767 - sparse_categorical_accuracy: 0.9462 - val_loss: 0.1896 - val_sparse_categorical_accuracy: 0.9437\n",
      "Epoch 9/50\n",
      "1000/1000 [==============================] - 10s 10ms/step - loss: 0.1699 - sparse_categorical_accuracy: 0.9484 - val_loss: 0.1716 - val_sparse_categorical_accuracy: 0.9492\n",
      "Epoch 10/50\n",
      "1000/1000 [==============================] - 10s 10ms/step - loss: 0.1658 - sparse_categorical_accuracy: 0.9497 - val_loss: 0.1742 - val_sparse_categorical_accuracy: 0.9480\n",
      "Epoch 11/50\n",
      "1000/1000 [==============================] - 10s 10ms/step - loss: 0.1590 - sparse_categorical_accuracy: 0.9510 - val_loss: 0.1716 - val_sparse_categorical_accuracy: 0.9475\n",
      "Epoch 12/50\n",
      "1000/1000 [==============================] - 10s 10ms/step - loss: 0.1558 - sparse_categorical_accuracy: 0.9525 - val_loss: 0.1646 - val_sparse_categorical_accuracy: 0.9491\n",
      "Epoch 13/50\n",
      "1000/1000 [==============================] - 10s 10ms/step - loss: 0.1535 - sparse_categorical_accuracy: 0.9532 - val_loss: 0.1717 - val_sparse_categorical_accuracy: 0.9512\n",
      "Epoch 14/50\n",
      "1000/1000 [==============================] - 10s 10ms/step - loss: 0.1519 - sparse_categorical_accuracy: 0.9546 - val_loss: 0.1621 - val_sparse_categorical_accuracy: 0.9510\n",
      "Epoch 15/50\n",
      "1000/1000 [==============================] - 10s 10ms/step - loss: 0.1502 - sparse_categorical_accuracy: 0.9554 - val_loss: 0.1670 - val_sparse_categorical_accuracy: 0.9510\n",
      "Epoch 16/50\n",
      "1000/1000 [==============================] - 10s 10ms/step - loss: 0.1466 - sparse_categorical_accuracy: 0.9555 - val_loss: 0.1580 - val_sparse_categorical_accuracy: 0.9521\n",
      "Epoch 17/50\n",
      "1000/1000 [==============================] - 10s 10ms/step - loss: 0.1420 - sparse_categorical_accuracy: 0.9561 - val_loss: 0.1622 - val_sparse_categorical_accuracy: 0.9528\n",
      "Epoch 18/50\n",
      "1000/1000 [==============================] - 10s 10ms/step - loss: 0.1404 - sparse_categorical_accuracy: 0.9574 - val_loss: 0.1578 - val_sparse_categorical_accuracy: 0.9544\n",
      "Epoch 19/50\n",
      "1000/1000 [==============================] - 10s 10ms/step - loss: 0.1358 - sparse_categorical_accuracy: 0.9582 - val_loss: 0.1554 - val_sparse_categorical_accuracy: 0.9549\n",
      "Epoch 20/50\n",
      "1000/1000 [==============================] - 10s 10ms/step - loss: 0.1316 - sparse_categorical_accuracy: 0.9605 - val_loss: 0.1559 - val_sparse_categorical_accuracy: 0.9540\n",
      "Epoch 21/50\n",
      "1000/1000 [==============================] - 10s 10ms/step - loss: 0.1340 - sparse_categorical_accuracy: 0.9587 - val_loss: 0.1570 - val_sparse_categorical_accuracy: 0.9551\n",
      "Epoch 22/50\n",
      "1000/1000 [==============================] - 10s 10ms/step - loss: 0.1293 - sparse_categorical_accuracy: 0.9601 - val_loss: 0.1591 - val_sparse_categorical_accuracy: 0.9540\n",
      "Epoch 23/50\n",
      "1000/1000 [==============================] - 10s 10ms/step - loss: 0.1263 - sparse_categorical_accuracy: 0.9609 - val_loss: 0.1508 - val_sparse_categorical_accuracy: 0.9557\n",
      "Epoch 24/50\n",
      "1000/1000 [==============================] - 10s 10ms/step - loss: 0.1232 - sparse_categorical_accuracy: 0.9617 - val_loss: 0.1578 - val_sparse_categorical_accuracy: 0.9533\n",
      "Epoch 25/50\n",
      "1000/1000 [==============================] - 10s 10ms/step - loss: 0.1234 - sparse_categorical_accuracy: 0.9626 - val_loss: 0.1501 - val_sparse_categorical_accuracy: 0.9542\n",
      "Epoch 26/50\n",
      "1000/1000 [==============================] - 10s 10ms/step - loss: 0.1221 - sparse_categorical_accuracy: 0.9627 - val_loss: 0.1432 - val_sparse_categorical_accuracy: 0.9585\n",
      "Epoch 27/50\n",
      "1000/1000 [==============================] - 10s 10ms/step - loss: 0.1220 - sparse_categorical_accuracy: 0.9625 - val_loss: 0.1458 - val_sparse_categorical_accuracy: 0.9587\n",
      "Epoch 28/50\n",
      "1000/1000 [==============================] - 10s 10ms/step - loss: 0.1199 - sparse_categorical_accuracy: 0.9628 - val_loss: 0.1400 - val_sparse_categorical_accuracy: 0.9588\n",
      "Epoch 29/50\n",
      "1000/1000 [==============================] - 10s 10ms/step - loss: 0.1174 - sparse_categorical_accuracy: 0.9639 - val_loss: 0.1366 - val_sparse_categorical_accuracy: 0.9593\n",
      "Epoch 30/50\n",
      "1000/1000 [==============================] - 10s 10ms/step - loss: 0.1129 - sparse_categorical_accuracy: 0.9648 - val_loss: 0.1432 - val_sparse_categorical_accuracy: 0.9570\n",
      "Epoch 31/50\n",
      "1000/1000 [==============================] - 10s 10ms/step - loss: 0.1128 - sparse_categorical_accuracy: 0.9661 - val_loss: 0.1468 - val_sparse_categorical_accuracy: 0.9565\n",
      "Epoch 32/50\n",
      "1000/1000 [==============================] - 10s 10ms/step - loss: 0.1121 - sparse_categorical_accuracy: 0.9649 - val_loss: 0.1377 - val_sparse_categorical_accuracy: 0.9599\n",
      "Epoch 33/50\n",
      "1000/1000 [==============================] - 10s 10ms/step - loss: 0.1118 - sparse_categorical_accuracy: 0.9656 - val_loss: 0.1418 - val_sparse_categorical_accuracy: 0.9581\n",
      "Epoch 34/50\n",
      "1000/1000 [==============================] - 10s 10ms/step - loss: 0.1101 - sparse_categorical_accuracy: 0.9660 - val_loss: 0.1363 - val_sparse_categorical_accuracy: 0.9585\n",
      "Epoch 35/50\n",
      "1000/1000 [==============================] - 10s 10ms/step - loss: 0.1106 - sparse_categorical_accuracy: 0.9655 - val_loss: 0.1405 - val_sparse_categorical_accuracy: 0.9581\n",
      "Epoch 36/50\n",
      "1000/1000 [==============================] - 10s 10ms/step - loss: 0.1099 - sparse_categorical_accuracy: 0.9664 - val_loss: 0.1396 - val_sparse_categorical_accuracy: 0.9594\n",
      "Epoch 37/50\n",
      "1000/1000 [==============================] - 10s 10ms/step - loss: 0.1083 - sparse_categorical_accuracy: 0.9672 - val_loss: 0.1333 - val_sparse_categorical_accuracy: 0.9604\n",
      "Epoch 38/50\n",
      "1000/1000 [==============================] - 10s 10ms/step - loss: 0.1071 - sparse_categorical_accuracy: 0.9671 - val_loss: 0.1338 - val_sparse_categorical_accuracy: 0.9602\n",
      "Epoch 39/50\n",
      "1000/1000 [==============================] - 10s 10ms/step - loss: 0.1060 - sparse_categorical_accuracy: 0.9679 - val_loss: 0.1331 - val_sparse_categorical_accuracy: 0.9597\n",
      "Epoch 40/50\n",
      "1000/1000 [==============================] - 10s 10ms/step - loss: 0.1037 - sparse_categorical_accuracy: 0.9677 - val_loss: 0.1318 - val_sparse_categorical_accuracy: 0.9627\n",
      "Epoch 41/50\n",
      "1000/1000 [==============================] - 10s 10ms/step - loss: 0.1044 - sparse_categorical_accuracy: 0.9678 - val_loss: 0.1328 - val_sparse_categorical_accuracy: 0.9603\n",
      "Epoch 42/50\n",
      "1000/1000 [==============================] - 10s 10ms/step - loss: 0.1052 - sparse_categorical_accuracy: 0.9676 - val_loss: 0.1387 - val_sparse_categorical_accuracy: 0.9588\n",
      "Epoch 43/50\n",
      "1000/1000 [==============================] - 10s 10ms/step - loss: 0.1046 - sparse_categorical_accuracy: 0.9680 - val_loss: 0.1351 - val_sparse_categorical_accuracy: 0.9603\n",
      "Epoch 44/50\n",
      "1000/1000 [==============================] - 10s 10ms/step - loss: 0.1043 - sparse_categorical_accuracy: 0.9685 - val_loss: 0.1272 - val_sparse_categorical_accuracy: 0.9641\n",
      "Epoch 45/50\n",
      "1000/1000 [==============================] - 10s 10ms/step - loss: 0.1023 - sparse_categorical_accuracy: 0.9685 - val_loss: 0.1324 - val_sparse_categorical_accuracy: 0.9620\n",
      "Epoch 46/50\n",
      "1000/1000 [==============================] - 10s 10ms/step - loss: 0.1001 - sparse_categorical_accuracy: 0.9694 - val_loss: 0.1351 - val_sparse_categorical_accuracy: 0.9598\n",
      "Epoch 47/50\n",
      "1000/1000 [==============================] - 10s 10ms/step - loss: 0.1008 - sparse_categorical_accuracy: 0.9690 - val_loss: 0.1362 - val_sparse_categorical_accuracy: 0.9605\n",
      "Epoch 48/50\n",
      "1000/1000 [==============================] - 10s 10ms/step - loss: 0.1011 - sparse_categorical_accuracy: 0.9693 - val_loss: 0.1407 - val_sparse_categorical_accuracy: 0.9616\n",
      "Epoch 49/50\n",
      "1000/1000 [==============================] - 10s 10ms/step - loss: 0.1000 - sparse_categorical_accuracy: 0.9694 - val_loss: 0.1383 - val_sparse_categorical_accuracy: 0.9593\n",
      "Epoch 50/50\n",
      "1000/1000 [==============================] - 10s 10ms/step - loss: 0.0954 - sparse_categorical_accuracy: 0.9707 - val_loss: 0.1395 - val_sparse_categorical_accuracy: 0.9590\n"
     ]
    },
    {
     "data": {
      "text/plain": [
       "<keras.callbacks.History at 0x315a8bd60>"
      ]
     },
     "execution_count": 32,
     "metadata": {},
     "output_type": "execute_result"
    }
   ],
   "source": [
    "logdir = os.path.join(\"logs\", datetime.datetime.now().strftime(\"batch_norm-%Y%m%d-%H%M%S\"))\n",
    "tensorboard_callback = tf.keras.callbacks.TensorBoard(logdir, histogram_freq=1)\n",
    "\n",
    "model_one.fit(train_dataset, epochs=50, validation_data=test_dataset, callbacks=[tensorboard_callback])"
   ]
  },
  {
   "cell_type": "code",
   "execution_count": 33,
   "id": "acff0007-6874-4ee7-a96b-373666d6073b",
   "metadata": {},
   "outputs": [],
   "source": [
    "class BatchNorm1D(tf.keras.layers.Layer):\n",
    "    def __init__(self, trainable=True, name=None, dtype=None, dynamic=False, **kwargs):\n",
    "        super().__init__()\n",
    "\n",
    "    def build(self, input_shape):\n",
    "        self.gamma = self.add_weight(\n",
    "                                name='gamma',\n",
    "                                shape=(input_shape[-1], ), \n",
    "                                initializer='ones',\n",
    "                                trainable=True)\n",
    "\n",
    "        self.beta = self.add_weight(\n",
    "                                name='beta',\n",
    "                                shape=(input_shape[-1], ), \n",
    "                                initializer='zeros',\n",
    "                                trainable=True)\n",
    "\n",
    "        self.epsilon = 10e-6\n",
    "\n",
    "    def call(self, inputs):\n",
    "        mean = tf.math.reduce_mean(inputs, axis=0)\n",
    "        variance = tf.math.reduce_mean(tf.math.square(tf.math.subtract(inputs, mean)), axis=0)\n",
    "\n",
    "        normalized_input = tf.math.divide(tf.math.subtract(inputs, mean), tf.math.sqrt(variance + self.epsilon))\n",
    "\n",
    "        return tf.math.add(tf.math.multiply(self.gamma, normalized_input), self.beta)"
   ]
  },
  {
   "cell_type": "code",
   "execution_count": 34,
   "id": "cabe24b4",
   "metadata": {},
   "outputs": [
    {
     "name": "stdout",
     "output_type": "stream",
     "text": [
      "Model: \"sequential_5\"\n",
      "_________________________________________________________________\n",
      " Layer (type)                Output Shape              Param #   \n",
      "=================================================================\n",
      " dense_20 (Dense)            (None, 100)               78500     \n",
      "                                                                 \n",
      " batch_norm1d_6 (BatchNorm1D  (None, 100)              200       \n",
      " )                                                               \n",
      "                                                                 \n",
      " activation_6 (Activation)   (None, 100)               0         \n",
      "                                                                 \n",
      " dense_21 (Dense)            (None, 100)               10100     \n",
      "                                                                 \n",
      " batch_norm1d_7 (BatchNorm1D  (None, 100)              200       \n",
      " )                                                               \n",
      "                                                                 \n",
      " activation_7 (Activation)   (None, 100)               0         \n",
      "                                                                 \n",
      " dense_22 (Dense)            (None, 100)               10100     \n",
      "                                                                 \n",
      " batch_norm1d_8 (BatchNorm1D  (None, 100)              200       \n",
      " )                                                               \n",
      "                                                                 \n",
      " activation_8 (Activation)   (None, 100)               0         \n",
      "                                                                 \n",
      " dense_23 (Dense)            (None, 10)                1010      \n",
      "                                                                 \n",
      "=================================================================\n",
      "Total params: 100,310\n",
      "Trainable params: 100,310\n",
      "Non-trainable params: 0\n",
      "_________________________________________________________________\n",
      "None\n"
     ]
    }
   ],
   "source": [
    "# tf.keras.backend.clear_session()\n",
    "\n",
    "model_two = tf.keras.Sequential([\n",
    "    tf.keras.layers.Dense(100, input_shape=(784, )),\n",
    "    BatchNorm1D(),\n",
    "    tf.keras.layers.Activation(activation='sigmoid'),\n",
    "    tf.keras.layers.Dense(100),\n",
    "    BatchNorm1D(),\n",
    "    tf.keras.layers.Activation(activation='sigmoid'),\n",
    "    tf.keras.layers.Dense(100),\n",
    "    BatchNorm1D(),\n",
    "    tf.keras.layers.Activation(activation='sigmoid'),\n",
    "    tf.keras.layers.Dense(10, )\n",
    "])\n",
    "\n",
    "model_two.build()\n",
    "\n",
    "print(model_two.summary())"
   ]
  },
  {
   "cell_type": "code",
   "execution_count": 35,
   "id": "e2844d03",
   "metadata": {},
   "outputs": [
    {
     "name": "stdout",
     "output_type": "stream",
     "text": [
      "Epoch 1/50\n"
     ]
    },
    {
     "name": "stderr",
     "output_type": "stream",
     "text": [
      "2023-01-22 23:19:37.839627: I tensorflow/core/grappler/optimizers/custom_graph_optimizer_registry.cc:114] Plugin optimizer for device_type GPU is enabled.\n"
     ]
    },
    {
     "name": "stdout",
     "output_type": "stream",
     "text": [
      " 998/1000 [============================>.] - ETA: 0s - loss: 0.4146 - sparse_categorical_accuracy: 0.8999"
     ]
    },
    {
     "name": "stderr",
     "output_type": "stream",
     "text": [
      "2023-01-22 23:19:59.385891: I tensorflow/core/grappler/optimizers/custom_graph_optimizer_registry.cc:114] Plugin optimizer for device_type GPU is enabled.\n"
     ]
    },
    {
     "name": "stdout",
     "output_type": "stream",
     "text": [
      "1000/1000 [==============================] - 23s 22ms/step - loss: 0.4140 - sparse_categorical_accuracy: 0.9001 - val_loss: 0.2702 - val_sparse_categorical_accuracy: 0.9173\n",
      "Epoch 2/50\n",
      "1000/1000 [==============================] - 21s 21ms/step - loss: 0.2091 - sparse_categorical_accuracy: 0.9382 - val_loss: 0.2047 - val_sparse_categorical_accuracy: 0.9391\n",
      "Epoch 3/50\n",
      "1000/1000 [==============================] - 21s 21ms/step - loss: 0.1555 - sparse_categorical_accuracy: 0.9530 - val_loss: 0.1685 - val_sparse_categorical_accuracy: 0.9479\n",
      "Epoch 4/50\n",
      "1000/1000 [==============================] - 23s 23ms/step - loss: 0.1232 - sparse_categorical_accuracy: 0.9624 - val_loss: 0.1452 - val_sparse_categorical_accuracy: 0.9550\n",
      "Epoch 5/50\n",
      "1000/1000 [==============================] - 22s 22ms/step - loss: 0.1061 - sparse_categorical_accuracy: 0.9681 - val_loss: 0.1439 - val_sparse_categorical_accuracy: 0.9562\n",
      "Epoch 6/50\n",
      "1000/1000 [==============================] - 23s 23ms/step - loss: 0.0905 - sparse_categorical_accuracy: 0.9724 - val_loss: 0.1388 - val_sparse_categorical_accuracy: 0.9569\n",
      "Epoch 7/50\n",
      "1000/1000 [==============================] - 24s 24ms/step - loss: 0.0785 - sparse_categorical_accuracy: 0.9758 - val_loss: 0.1236 - val_sparse_categorical_accuracy: 0.9614\n",
      "Epoch 8/50\n",
      "1000/1000 [==============================] - 24s 24ms/step - loss: 0.0695 - sparse_categorical_accuracy: 0.9776 - val_loss: 0.1187 - val_sparse_categorical_accuracy: 0.9656\n",
      "Epoch 9/50\n",
      "1000/1000 [==============================] - 24s 24ms/step - loss: 0.0621 - sparse_categorical_accuracy: 0.9801 - val_loss: 0.1234 - val_sparse_categorical_accuracy: 0.9633\n",
      "Epoch 10/50\n",
      "1000/1000 [==============================] - 23s 23ms/step - loss: 0.0555 - sparse_categorical_accuracy: 0.9818 - val_loss: 0.1176 - val_sparse_categorical_accuracy: 0.9675\n",
      "Epoch 11/50\n",
      "1000/1000 [==============================] - 22s 22ms/step - loss: 0.0508 - sparse_categorical_accuracy: 0.9837 - val_loss: 0.1261 - val_sparse_categorical_accuracy: 0.9643\n",
      "Epoch 12/50\n",
      "1000/1000 [==============================] - 21s 21ms/step - loss: 0.0448 - sparse_categorical_accuracy: 0.9853 - val_loss: 0.1155 - val_sparse_categorical_accuracy: 0.9683\n",
      "Epoch 13/50\n",
      "1000/1000 [==============================] - 21s 21ms/step - loss: 0.0415 - sparse_categorical_accuracy: 0.9868 - val_loss: 0.1179 - val_sparse_categorical_accuracy: 0.9669\n",
      "Epoch 14/50\n",
      "1000/1000 [==============================] - 21s 21ms/step - loss: 0.0388 - sparse_categorical_accuracy: 0.9873 - val_loss: 0.1199 - val_sparse_categorical_accuracy: 0.9683\n",
      "Epoch 15/50\n",
      "1000/1000 [==============================] - 21s 21ms/step - loss: 0.0354 - sparse_categorical_accuracy: 0.9882 - val_loss: 0.1217 - val_sparse_categorical_accuracy: 0.9666\n",
      "Epoch 16/50\n",
      "1000/1000 [==============================] - 21s 21ms/step - loss: 0.0316 - sparse_categorical_accuracy: 0.9895 - val_loss: 0.1194 - val_sparse_categorical_accuracy: 0.9694\n",
      "Epoch 17/50\n",
      "1000/1000 [==============================] - 21s 21ms/step - loss: 0.0304 - sparse_categorical_accuracy: 0.9899 - val_loss: 0.1180 - val_sparse_categorical_accuracy: 0.9690\n",
      "Epoch 18/50\n",
      "1000/1000 [==============================] - 21s 21ms/step - loss: 0.0273 - sparse_categorical_accuracy: 0.9906 - val_loss: 0.1137 - val_sparse_categorical_accuracy: 0.9699\n",
      "Epoch 19/50\n",
      "1000/1000 [==============================] - 21s 21ms/step - loss: 0.0264 - sparse_categorical_accuracy: 0.9912 - val_loss: 0.1180 - val_sparse_categorical_accuracy: 0.9695\n",
      "Epoch 20/50\n",
      "1000/1000 [==============================] - 21s 21ms/step - loss: 0.0240 - sparse_categorical_accuracy: 0.9919 - val_loss: 0.1101 - val_sparse_categorical_accuracy: 0.9728\n",
      "Epoch 21/50\n",
      "1000/1000 [==============================] - 21s 21ms/step - loss: 0.0223 - sparse_categorical_accuracy: 0.9923 - val_loss: 0.1254 - val_sparse_categorical_accuracy: 0.9684\n",
      "Epoch 22/50\n",
      "1000/1000 [==============================] - 21s 21ms/step - loss: 0.0209 - sparse_categorical_accuracy: 0.9928 - val_loss: 0.1215 - val_sparse_categorical_accuracy: 0.9692\n",
      "Epoch 23/50\n",
      "1000/1000 [==============================] - 21s 21ms/step - loss: 0.0191 - sparse_categorical_accuracy: 0.9938 - val_loss: 0.1237 - val_sparse_categorical_accuracy: 0.9719\n",
      "Epoch 24/50\n",
      "1000/1000 [==============================] - 21s 21ms/step - loss: 0.0200 - sparse_categorical_accuracy: 0.9932 - val_loss: 0.1222 - val_sparse_categorical_accuracy: 0.9723\n",
      "Epoch 25/50\n",
      "1000/1000 [==============================] - 21s 21ms/step - loss: 0.0173 - sparse_categorical_accuracy: 0.9941 - val_loss: 0.1312 - val_sparse_categorical_accuracy: 0.9691\n",
      "Epoch 26/50\n",
      "1000/1000 [==============================] - 21s 21ms/step - loss: 0.0172 - sparse_categorical_accuracy: 0.9940 - val_loss: 0.1222 - val_sparse_categorical_accuracy: 0.9707\n",
      "Epoch 27/50\n",
      "1000/1000 [==============================] - 21s 21ms/step - loss: 0.0164 - sparse_categorical_accuracy: 0.9941 - val_loss: 0.1320 - val_sparse_categorical_accuracy: 0.9686\n",
      "Epoch 28/50\n",
      "1000/1000 [==============================] - 21s 21ms/step - loss: 0.0145 - sparse_categorical_accuracy: 0.9951 - val_loss: 0.1193 - val_sparse_categorical_accuracy: 0.9722\n",
      "Epoch 29/50\n",
      "1000/1000 [==============================] - 21s 21ms/step - loss: 0.0137 - sparse_categorical_accuracy: 0.9953 - val_loss: 0.1401 - val_sparse_categorical_accuracy: 0.9691\n",
      "Epoch 30/50\n",
      "1000/1000 [==============================] - 21s 21ms/step - loss: 0.0149 - sparse_categorical_accuracy: 0.9949 - val_loss: 0.1272 - val_sparse_categorical_accuracy: 0.9706\n",
      "Epoch 31/50\n",
      "1000/1000 [==============================] - 21s 21ms/step - loss: 0.0138 - sparse_categorical_accuracy: 0.9952 - val_loss: 0.1425 - val_sparse_categorical_accuracy: 0.9691\n",
      "Epoch 32/50\n",
      "1000/1000 [==============================] - 21s 21ms/step - loss: 0.0143 - sparse_categorical_accuracy: 0.9950 - val_loss: 0.1276 - val_sparse_categorical_accuracy: 0.9727\n",
      "Epoch 33/50\n",
      "1000/1000 [==============================] - 21s 21ms/step - loss: 0.0124 - sparse_categorical_accuracy: 0.9956 - val_loss: 0.1270 - val_sparse_categorical_accuracy: 0.9707\n",
      "Epoch 34/50\n",
      "1000/1000 [==============================] - 21s 21ms/step - loss: 0.0124 - sparse_categorical_accuracy: 0.9958 - val_loss: 0.1318 - val_sparse_categorical_accuracy: 0.9715\n",
      "Epoch 35/50\n",
      "1000/1000 [==============================] - 21s 21ms/step - loss: 0.0120 - sparse_categorical_accuracy: 0.9957 - val_loss: 0.1337 - val_sparse_categorical_accuracy: 0.9736\n",
      "Epoch 36/50\n",
      "1000/1000 [==============================] - 21s 21ms/step - loss: 0.0106 - sparse_categorical_accuracy: 0.9965 - val_loss: 0.1393 - val_sparse_categorical_accuracy: 0.9722\n",
      "Epoch 37/50\n",
      "1000/1000 [==============================] - 21s 21ms/step - loss: 0.0100 - sparse_categorical_accuracy: 0.9967 - val_loss: 0.1300 - val_sparse_categorical_accuracy: 0.9729\n",
      "Epoch 38/50\n",
      "1000/1000 [==============================] - 21s 21ms/step - loss: 0.0111 - sparse_categorical_accuracy: 0.9962 - val_loss: 0.1311 - val_sparse_categorical_accuracy: 0.9733\n",
      "Epoch 39/50\n",
      "1000/1000 [==============================] - 21s 21ms/step - loss: 0.0101 - sparse_categorical_accuracy: 0.9963 - val_loss: 0.1371 - val_sparse_categorical_accuracy: 0.9724\n",
      "Epoch 40/50\n",
      "1000/1000 [==============================] - 21s 21ms/step - loss: 0.0099 - sparse_categorical_accuracy: 0.9965 - val_loss: 0.1263 - val_sparse_categorical_accuracy: 0.9737\n",
      "Epoch 41/50\n",
      "1000/1000 [==============================] - 21s 21ms/step - loss: 0.0089 - sparse_categorical_accuracy: 0.9969 - val_loss: 0.1402 - val_sparse_categorical_accuracy: 0.9711\n",
      "Epoch 42/50\n",
      "1000/1000 [==============================] - 24s 24ms/step - loss: 0.0097 - sparse_categorical_accuracy: 0.9967 - val_loss: 0.1395 - val_sparse_categorical_accuracy: 0.9716\n",
      "Epoch 43/50\n",
      "1000/1000 [==============================] - 24s 24ms/step - loss: 0.0088 - sparse_categorical_accuracy: 0.9969 - val_loss: 0.1351 - val_sparse_categorical_accuracy: 0.9723\n",
      "Epoch 44/50\n",
      "1000/1000 [==============================] - 23s 23ms/step - loss: 0.0102 - sparse_categorical_accuracy: 0.9967 - val_loss: 0.1363 - val_sparse_categorical_accuracy: 0.9727\n",
      "Epoch 45/50\n",
      "1000/1000 [==============================] - 23s 23ms/step - loss: 0.0088 - sparse_categorical_accuracy: 0.9969 - val_loss: 0.1316 - val_sparse_categorical_accuracy: 0.9721\n",
      "Epoch 46/50\n",
      "1000/1000 [==============================] - 23s 23ms/step - loss: 0.0078 - sparse_categorical_accuracy: 0.9973 - val_loss: 0.1429 - val_sparse_categorical_accuracy: 0.9740\n",
      "Epoch 47/50\n",
      "1000/1000 [==============================] - 23s 23ms/step - loss: 0.0082 - sparse_categorical_accuracy: 0.9971 - val_loss: 0.1335 - val_sparse_categorical_accuracy: 0.9737\n",
      "Epoch 48/50\n",
      "1000/1000 [==============================] - 23s 23ms/step - loss: 0.0088 - sparse_categorical_accuracy: 0.9972 - val_loss: 0.1437 - val_sparse_categorical_accuracy: 0.9725\n",
      "Epoch 49/50\n",
      "1000/1000 [==============================] - 23s 23ms/step - loss: 0.0079 - sparse_categorical_accuracy: 0.9971 - val_loss: 0.1310 - val_sparse_categorical_accuracy: 0.9760\n",
      "Epoch 50/50\n",
      "1000/1000 [==============================] - 20s 20ms/step - loss: 0.0079 - sparse_categorical_accuracy: 0.9971 - val_loss: 0.1413 - val_sparse_categorical_accuracy: 0.9736\n"
     ]
    },
    {
     "data": {
      "text/plain": [
       "<keras.callbacks.History at 0x315a8ae00>"
      ]
     },
     "execution_count": 35,
     "metadata": {},
     "output_type": "execute_result"
    }
   ],
   "source": [
    "model_two.compile(optimizer=tf.keras.optimizers.RMSprop(),\n",
    "        loss=tf.keras.losses.SparseCategoricalCrossentropy(from_logits=True),\n",
    "        metrics=['sparse_categorical_accuracy'])\n",
    "\n",
    "logdir = os.path.join(\"logs\", datetime.datetime.now().strftime(\"batch_norm-%Y%m%d-%H%M%S\"))\n",
    "tensorboard_callback = tf.keras.callbacks.TensorBoard(logdir, histogram_freq=1)\n",
    "\n",
    "model_two.fit(train_dataset, epochs=50, validation_data=test_dataset, callbacks=[tensorboard_callback])"
   ]
  }
 ],
 "metadata": {
  "kernelspec": {
   "display_name": "Python 3.10.0 64-bit ('3.10.0')",
   "language": "python",
   "name": "python3"
  },
  "language_info": {
   "codemirror_mode": {
    "name": "ipython",
    "version": 3
   },
   "file_extension": ".py",
   "mimetype": "text/x-python",
   "name": "python",
   "nbconvert_exporter": "python",
   "pygments_lexer": "ipython3",
   "version": "3.10.0"
  },
  "vscode": {
   "interpreter": {
    "hash": "d1e2dee48b02031918904c233009e6681485f7318eff0019dcda8e435e03498a"
   }
  }
 },
 "nbformat": 4,
 "nbformat_minor": 5
}
